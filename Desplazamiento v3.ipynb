{
 "cells": [
  {
   "cell_type": "code",
   "execution_count": null,
   "id": "47551958-4f8c-43f2-ae7c-709a77a9746b",
   "metadata": {},
   "outputs": [],
   "source": [
    "import cv2\n",
    "import numpy as np\n",
    "import matplotlib.pyplot as plt\n",
    "\n",
    "image = cv2.imread('iron.jpg')\n",
    "\n",
    "# Calcular el histograma original\n",
    "hist_original = cv2.calcHist([image], [0], None, [256], [0, 256])\n",
    "\n",
    "# Desplazar el histograma\n",
    "val_des = -50\n",
    "img_des = cv2.add(image, val_des)\n",
    "\n",
    "# Fijar el rango de valores entre 0 y 256\n",
    "img_des = np.clip(img_des, 0, 255).astype(np.uint8)\n",
    "\n",
    "# Calcular el histograma desplazado\n",
    "hist_des = cv2.calcHist([img_des], [0], None, [256], [0, 256])\n",
    "\n",
    "plt.figure(figsize=(12, 6))\n",
    "\n",
    "plt.subplot(1, 2, 1)\n",
    "plt.title('Histograma Original')\n",
    "plt.xlabel('Pixeles')\n",
    "plt.ylabel('Frecuencia')\n",
    "plt.plot(hist_original)\n",
    "\n",
    "plt.subplot(1, 2, 2)\n",
    "plt.title('Histograma Desplazado')\n",
    "plt.xlabel('Pixeles')\n",
    "plt.ylabel('Frecuencia')\n",
    "plt.plot(hist_des)\n",
    "\n",
    "plt.tight_layout()\n",
    "plt.show()\n",
    "\n",
    "cv2.imshow('Imnagen Original', image)\n",
    "cv2.imshow('Imagen Desplazada', img_des)\n",
    "cv2.waitKey(0)\n",
    "cv2.destroyAllWindows()\n"
   ]
  },
  {
   "cell_type": "code",
   "execution_count": null,
   "id": "af40d8c9-a506-4fed-a910-15e10f4e8c29",
   "metadata": {},
   "outputs": [],
   "source": []
  }
 ],
 "metadata": {
  "kernelspec": {
   "display_name": "Python 3 (ipykernel)",
   "language": "python",
   "name": "python3"
  },
  "language_info": {
   "codemirror_mode": {
    "name": "ipython",
    "version": 3
   },
   "file_extension": ".py",
   "mimetype": "text/x-python",
   "name": "python",
   "nbconvert_exporter": "python",
   "pygments_lexer": "ipython3",
   "version": "3.11.4"
  }
 },
 "nbformat": 4,
 "nbformat_minor": 5
}
