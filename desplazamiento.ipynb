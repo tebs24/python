{
 "cells": [
  {
   "cell_type": "code",
   "execution_count": null,
   "id": "d5243c82-4c1e-41e8-bd6b-eed6ec1e734d",
   "metadata": {},
   "outputs": [],
   "source": [
    "import cv2\n",
    "import numpy as np\n",
    "import matplotlib.pyplot as plt\n",
    "\n",
    "image = cv2.imread('iron.jpg')\n",
    "blue, green, red = cv2.split(image)\n",
    "\n",
    "# Histograma de los canales\n",
    "bhist_original = cv2.calcHist([blue], [0], None, [256], [0, 256])\n",
    "ghist_original = cv2.calcHist([green], [0], None, [256], [0, 256])\n",
    "rhist_original = cv2.calcHist([red], [0], None, [256], [0, 256])\n",
    "\n",
    "# Step 4: Apply the histogram shift to the blue channel (e.g., shift by 50)\n",
    "shift_value = 50\n",
    "blue_shifted = np.clip(blue + shift_value, 0, 255).astype(np.uint8)\n",
    "green_shifted = np.clip(green + shift_value, 0, 255).astype(np.uint8)\n",
    "red_shifted = np.clip(red + shift_value, 0, 255).astype(np.uint8)\n",
    "\n",
    "# Calculate the histogram of the shifted blue channel\n",
    "bhist_shifted = cv2.calcHist([blue_shifted], [0], None, [256], [0, 256])\n",
    "ghist_shifted = cv2.calcHist([green_shifted], [0], None, [256], [0, 256])\n",
    "rhist_shifted = cv2.calcHist([red_shifted], [0], None, [256], [0, 256])\n",
    "\n",
    "# Step 5: Merge the color channels back into an image\n",
    "shifted_image = cv2.merge([blue_shifted, green_shifted, red_shifted])\n",
    "\n",
    "# Step 6: Display the original and shifted histograms using Matplotlib with cmap\n",
    "plt.figure(figsize=(12, 6))\n",
    "\n",
    "plt.subplot(1, 2, 1)\n",
    "plt.title('Original Histogram')\n",
    "plt.xlabel('Pixel Value')\n",
    "plt.ylabel('Frequency')\n",
    "plt.hist(blue.ravel(), bins=256, range=[0, 256], color='blue', alpha=0.7)\n",
    "plt.hist(green.ravel(), bins=256, range=[0, 256], color='green', alpha=0.7)\n",
    "plt.hist(red.ravel(), bins=256, range=[0, 256], color='red', alpha=0.7)\n",
    "\n",
    "plt.subplot(1, 2, 2)\n",
    "plt.title('Shifted Histogram')\n",
    "plt.xlabel('Pixel Value')\n",
    "plt.ylabel('Frequency')\n",
    "plt.hist(blue_shifted.ravel(), bins=256, range=[0, 256], color='blue', alpha=0.7)\n",
    "plt.hist(green_shifted.ravel(), bins=256, range=[0, 256], color='green', alpha=0.7)\n",
    "plt.hist(red_shifted.ravel(), bins=256, range=[0, 256], color='red', alpha=0.7)\n",
    "\n",
    "plt.tight_layout()\n",
    "plt.show()\n",
    "\n",
    "# Display the original and shifted images (optional)\n",
    "cv2.imshow('Original Image', image)\n",
    "cv2.imshow('Shifted Image', shifted_image)\n",
    "cv2.waitKey(0)\n",
    "cv2.destroyAllWindows()\n"
   ]
  },
  {
   "cell_type": "code",
   "execution_count": null,
   "id": "f140596f-1eca-42c3-a497-e25eda425e4d",
   "metadata": {},
   "outputs": [],
   "source": []
  },
  {
   "cell_type": "code",
   "execution_count": null,
   "id": "1c462492-4799-430d-9bed-5cae23198f2b",
   "metadata": {},
   "outputs": [],
   "source": []
  }
 ],
 "metadata": {
  "kernelspec": {
   "display_name": "Python 3 (ipykernel)",
   "language": "python",
   "name": "python3"
  },
  "language_info": {
   "codemirror_mode": {
    "name": "ipython",
    "version": 3
   },
   "file_extension": ".py",
   "mimetype": "text/x-python",
   "name": "python",
   "nbconvert_exporter": "python",
   "pygments_lexer": "ipython3",
   "version": "3.11.4"
  }
 },
 "nbformat": 4,
 "nbformat_minor": 5
}
